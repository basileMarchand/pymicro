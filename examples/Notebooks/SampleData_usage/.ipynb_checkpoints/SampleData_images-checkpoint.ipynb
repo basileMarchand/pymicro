{
 "cells": [
  {
   "cell_type": "markdown",
   "metadata": {},
   "source": [
    "Creating, Manipulating and Visualizing Images with SampleData\n",
    "==============================================================\n",
    "\n",
    "This notebook is designed to demonstrates the elementary steps to store, manipulate and visualize **images** with the `SampleData` data platform class of the `pymicro.core` package. By **images**, it is intended volumic data that is defined on a *regular grid* of *voxels* (3D) or *pixels* (2D). \n",
    "\n",
    "Through this notebook, you will learn to:\n",
    "- Transfer data from `numpy` arrays to an `image_object` from the `pymicro.core.image` package\n",
    "- Create an Image group into a `SampleData` instance/file from an `image_object`\n",
    "- add Fields into Image groups from `numpy` arrays\n",
    "- Handle 2D and 3D Images \n",
    "- Use Paraview to visualize the images\n",
    "- Get an `image_object` from a SampleData Image group"
   ]
  },
  {
   "cell_type": "markdown",
   "metadata": {},
   "source": [
    "## I - Prepare environment to use Sample Data (imports)"
   ]
  },
  {
   "cell_type": "code",
   "execution_count": 2,
   "metadata": {},
   "outputs": [],
   "source": [
    "import os\n",
    "import numpy as np\n",
    "from pymicro.core.samples import SampleData\n",
    "from pymicro.core.images import ImageObject\n",
    "from matplotlib import pyplot as plt"
   ]
  },
  {
   "cell_type": "markdown",
   "metadata": {},
   "source": [
    "## II - Create SampleData Instance\n",
    "A `SampleData` instance is created with the filename *SD_images*. It will be synchronized with the files *SD_images.h5* and *SD_images.xdmf* in the same directory as this notebook. \n",
    "\n",
    "If you want extended information on the `SampleData` object manipulations, use the keyword argument `verbose=True` in the instanciation.\n",
    "\n",
    "In order to suppress the *SD_images.h5* and *SD_images.xdmf* files at the deletion of the class instance (at the end of this Notebook), use the `autodelete=True` keyword argument. Using this option is recommended when a SampleData instance is used for temporary data manipulation, when learning to use SampleData or trying things.   \n",
    "\n",
    "After creation of the `SampleData` instance, we print it to see the content of the dataset."
   ]
  },
  {
   "cell_type": "code",
   "execution_count": 3,
   "metadata": {},
   "outputs": [
    {
     "name": "stdout",
     "output_type": "stream",
     "text": [
      "\n",
      "-- File \"SD_images_ref.h5\" not found : file created\n",
      "-- File \"SD_images_ref.xdmf\" not found : file created\n",
      ".... writing xdmf file : SD_images_ref.xdmf\n",
      "\n",
      "-- General Compression Options for datasets in SD_images_ref.h5\n",
      "\n",
      "\t * No Compression\n",
      "\n",
      "Minimal data model initialization....\n",
      "\n",
      "Minimal data model initialization done\n",
      "\n",
      ".... Storing content index in SD_images_ref.h5:/Index attributes\n",
      ".... writing xdmf file : SD_images_ref.xdmf\n",
      ".... flushing data in file SD_images_ref.h5\n",
      "File SD_images_ref.h5 synchronized with in memory data tree\n",
      "Dataset Content Index :\n",
      "------------------------:\n",
      "\n",
      "****** DATA SET CONTENT ******\n",
      " -- File: SD_images_ref.h5\n",
      " -- Size:     3.594 Kb\n",
      " -- Data Model Class: SampleData\n",
      "\n",
      " Group /\n",
      "=====================\n",
      " -- Parent Group : /\n",
      " -- Group attributes : \n",
      "\t description :  \n",
      "\t sample_name : \n",
      " -- Childrens : Index, \n",
      "----------------\n",
      "************************************************\n"
     ]
    }
   ],
   "source": [
    "sample = SampleData(filename='SD_images', verbose=True, autodelete=True)\n",
    "print(sample)"
   ]
  },
  {
   "cell_type": "markdown",
   "metadata": {},
   "source": [
    "## II - Creation of 2D images\n",
    "First, we create a simple binary image of dimension 2 (pixelized fields), representing a square, by creating a `numpy` integer array. It will later be stored into `sample` into two different 2D images."
   ]
  },
  {
   "cell_type": "code",
   "execution_count": 4,
   "metadata": {},
   "outputs": [
    {
     "data": {
      "text/plain": [
       "<matplotlib.image.AxesImage at 0x7f20969e85d0>"
      ]
     },
     "execution_count": 4,
     "metadata": {},
     "output_type": "execute_result"
    },
    {
     "data": {
      "image/png": "[encoded data removed]",
      "text/plain": [
       "<Figure size 432x288 with 1 Axes>"
      ]
     },
     "metadata": {
      "needs_background": "light"
     },
     "output_type": "display_data"
    }
   ],
   "source": [
    "image1 = np.zeros((25,25),dtype=int)\n",
    "image1[5:20,5:20] = 1\n",
    "plt.imshow(image1, cmap='jet')"
   ]
  },
  {
   "cell_type": "markdown",
   "metadata": {},
   "source": [
    "## III - Creation of Image Objects \n",
    "We now create two `ImageObject` instances. This class is designed to represent a regular grid (2D or 3D) on which are defined several voxelized/pixelized fields (*i.e.* images). We create two objects of this class from `image1` two create 2 images with a different geometry but the same field content."
   ]
  },
  {
   "cell_type": "markdown",
   "metadata": {},
   "source": [
    "### First ImageObject\n",
    "The default settings of ImageObject are `spacing=[1.,1.,1.]` and `origin=[0.,0.,0.]`, two attributes that control respectively the pixel (voxel in 2D) size and position of the first corner of the image. The first `ImageObject` is created with those default settings.\n",
    "They define the geometry of the grid that will be stored latter in the SampleData object, and thus the position of the image in the visualization frame in Paraview.\n",
    "\n",
    "Here, the image is defined through the shape of the `image1` array shape. It will thus be an image of *25x25* pixels. Given the aforementioned geometrical parameters, the grid will thus occupy the domain $0 \\leq x \\leq 25, 0 \\leq y \\leq 25$."
   ]
  },
  {
   "cell_type": "code",
   "execution_count": 5,
   "metadata": {},
   "outputs": [],
   "source": [
    "ImageObject_2D_1 = ImageObject(dimension=image1.shape) \n",
    "# add image1 as a field on the image object\n",
    "ImageObject_2D_1.add_field(Field=image1, Field_name='test_image')"
   ]
  },
  {
   "cell_type": "markdown",
   "metadata": {},
   "source": [
    "We can print the Image object content and attributes to check its content and geometry."
   ]
  },
  {
   "cell_type": "code",
   "execution_count": 6,
   "metadata": {},
   "outputs": [
    {
     "name": "stdout",
     "output_type": "stream",
     "text": [
      "Image dimension is (25, 25)\n",
      "Image voxel size is [1. 1. 1.]\n",
      "Image origin coordinates is [0. 0. 0.]\n"
     ]
    },
    {
     "data": {
      "text/plain": [
       "<matplotlib.image.AxesImage at 0x7f208d4c19d0>"
      ]
     },
     "execution_count": 6,
     "metadata": {},
     "output_type": "execute_result"
    },
    {
     "data": {
      "image/png": "[encoded data removed]",
      "text/plain": [
       "<Figure size 432x288 with 1 Axes>"
      ]
     },
     "metadata": {
      "needs_background": "light"
     },
     "output_type": "display_data"
    }
   ],
   "source": [
    "print('Image dimension is',ImageObject_2D_1.dimension)\n",
    "print('Image voxel size is',ImageObject_2D_1.spacing)\n",
    "print('Image origin coordinates is',ImageObject_2D_1.origin)\n",
    "plt.imshow(ImageObject_2D_1.fields['test_image'], cmap='jet')"
   ]
  },
  {
   "cell_type": "markdown",
   "metadata": {},
   "source": [
    "### Second ImageObject\n",
    "We now create a second object, with a pixel size twice as large as the first one, and an origin shifted in order to avoid overlap between the two images in the visualization frame. As the first image extends from 0 to 25 in the Y dimension, the origin of the second is set to 30. in this dimension. These settings are passed to the `ImageObject` constructor, as follows:"
   ]
  },
  {
   "cell_type": "code",
   "execution_count": 7,
   "metadata": {},
   "outputs": [],
   "source": [
    "ImageObject_2D_2 = ImageObject(dimension=image1.shape, origin=[0., 30.],\n",
    "                       spacing=[2.,2.])\n",
    "# add image1 as a field on the image object with a different name to avoid confusion\n",
    "# later with Paraview visualization.\n",
    "ImageObject_2D_2.add_field(Field=image1, Field_name='test_image_large')"
   ]
  },
  {
   "cell_type": "markdown",
   "metadata": {},
   "source": [
    "We can print the Image object content and attributes to check its content and geometry."
   ]
  },
  {
   "cell_type": "code",
   "execution_count": 8,
   "metadata": {},
   "outputs": [
    {
     "name": "stdout",
     "output_type": "stream",
     "text": [
      "Image dimension is (25, 25)\n",
      "Image voxel size is [2.0, 2.0]\n",
      "Image origin coordinates is [0.0, 30.0]\n"
     ]
    },
    {
     "data": {
      "text/plain": [
       "<matplotlib.image.AxesImage at 0x7f208d4b2c90>"
      ]
     },
     "execution_count": 8,
     "metadata": {},
     "output_type": "execute_result"
    },
    {
     "data": {
      "image/png": "[encoded data removed]",
      "text/plain": [
       "<Figure size 432x288 with 1 Axes>"
      ]
     },
     "metadata": {
      "needs_background": "light"
     },
     "output_type": "display_data"
    }
   ],
   "source": [
    "print('Image dimension is',ImageObject_2D_2.dimension)\n",
    "print('Image voxel size is',ImageObject_2D_2.spacing)\n",
    "print('Image origin coordinates is',ImageObject_2D_2.origin)\n",
    "plt.imshow(ImageObject_2D_2.fields['test_image_large'], cmap='jet')"
   ]
  },
  {
   "cell_type": "markdown",
   "metadata": {},
   "source": [
    "## IV - Add the Image Objects into SampleData instance\n",
    "\n",
    "SampleData can directly store an `ImageObject` into a SampleData Image group. Such a group is a HDF5 Group that has attributes defining the geometry of the Image underlying grid, and children Nodes that contain the data array with values of the fields defined on the Image. \n",
    "\n",
    "To add an `ImageObject` into SampleData, simply use the `add_image` method, and specify identification metadata of the Image group. These metadata include the name of the HDF5 Group used to store the image, et the location where it is stored. Additionnally, an `indexname` is provided. SampleData allows to access data items with their names, pathes in the HDF5 tree, but also through index names or aliases, in most of the SampleData API methods. "
   ]
  },
  {
   "cell_type": "code",
   "execution_count": 9,
   "metadata": {},
   "outputs": [
    {
     "name": "stdout",
     "output_type": "stream",
     "text": [
      "\n",
      "Creating Group group `TestIm2D` in file SD_images_ref.h5 at /\n",
      "Updating xdmf tree...\n",
      "\n",
      "Adding array `test_image` into Group `/TestIm2D`\n",
      "\n",
      "Creating Group group `TestIm2D_large` in file SD_images_ref.h5 at /\n",
      "Updating xdmf tree...\n",
      "\n",
      "Adding array `test_image_large` into Group `/TestIm2D_large`\n"
     ]
    }
   ],
   "source": [
    "# Add first image object\n",
    "sample.add_image(ImageObject_2D_1,imagename='TestIm2D', location='/',indexname='image2d') \n",
    "\n",
    "# Add second image object\n",
    "sample.add_image(ImageObject_2D_2,imagename='TestIm2D_large',indexname='image2d_large')"
   ]
  },
  {
   "cell_type": "markdown",
   "metadata": {},
   "source": [
    "Now, two image groups named *TestIm2D* and *TestIm2D_large* have been created in the `SampleData` instance. We can print the content of the dataset. You can see that the index of the dataset now includes both Image Groups and both image fields entries, and that the Groups and Fields HDF5 nodes information are printed: "
   ]
  },
  {
   "cell_type": "code",
   "execution_count": 10,
   "metadata": {},
   "outputs": [
    {
     "name": "stdout",
     "output_type": "stream",
     "text": [
      "Dataset Content Index :\n",
      "------------------------:\n",
      "\t Name : image2d               H5_Path : /TestIm2D \t\n",
      "\t Name : test_image            H5_Path : /TestIm2D/test_image \t\n",
      "\t Name : image2d_large         H5_Path : /TestIm2D_large \t\n",
      "\t Name : test_image_large      H5_Path : /TestIm2D_large/test_image_large \t\n",
      "\n",
      "****** DATA SET CONTENT ******\n",
      " -- File: SD_images_ref.h5\n",
      " -- Size:     3.594 Kb\n",
      " -- Data Model Class: SampleData\n",
      "\n",
      " Group /\n",
      "=====================\n",
      " -- Parent Group : /\n",
      " -- Group attributes : \n",
      "\t description :  \n",
      "\t sample_name : \n",
      " -- Childrens : Index, TestIm2D, TestIm2D_large, \n",
      "----------------\n",
      "************************************************\n",
      " Group TestIm2D\n",
      "=====================\n",
      " -- Parent Group : /\n",
      " -- Group attributes : \n",
      "\t description :  \n",
      "\t dimension : [25 25]\n",
      "\t empty : False\n",
      "\t group_type : 2DImage\n",
      "\t origin : [0. 0. 0.]\n",
      "\t spacing : [1. 1. 1.]\n",
      "\t xdmf_geometry_path : Domain/Grid/Geometry\n",
      "\t xdmf_path : Domain/Grid\n",
      "\t xdmf_topology_path : Domain/Grid/Topology\n",
      " -- Childrens : test_image, \n",
      "----------------\n",
      "\n",
      "****** Group TestIm2D CONTENT ******\n",
      " Node /TestIm2D/test_image\n",
      "====================\n",
      " -- Parent Group : TestIm2D\n",
      " -- Node name : test_image\n",
      " -- Node attributes : \n",
      "\t empty : False\n",
      "\t field_type : Scalar\n",
      "\t xdmf_path : Domain/Grid/Attribute\n",
      " -- content : /TestIm2D/test_image (CArray(25, 25)) ''\n",
      " -- Compression options for node `test_image`:\n",
      "\tcomplevel=0, shuffle=False, bitshuffle=False, fletcher32=False, least_significant_digit=None\n",
      " -- Node size :    63.867 Kb\n",
      "----------------\n",
      "************************************************\n",
      " Group TestIm2D_large\n",
      "=====================\n",
      " -- Parent Group : /\n",
      " -- Group attributes : \n",
      "\t description :  \n",
      "\t dimension : [25 25]\n",
      "\t empty : False\n",
      "\t group_type : 2DImage\n",
      "\t origin : [ 0. 30.]\n",
      "\t spacing : [2. 2.]\n",
      "\t xdmf_geometry_path : Domain/Grid[2]/Geometry\n",
      "\t xdmf_path : Domain/Grid[2]\n",
      "\t xdmf_topology_path : Domain/Grid[2]/Topology\n",
      " -- Childrens : test_image_large, \n",
      "----------------\n",
      "\n",
      "****** Group TestIm2D_large CONTENT ******\n",
      " Node /TestIm2D_large/test_image_large\n",
      "====================\n",
      " -- Parent Group : TestIm2D_large\n",
      " -- Node name : test_image_large\n",
      " -- Node attributes : \n",
      "\t empty : False\n",
      "\t field_type : Scalar\n",
      "\t xdmf_path : Domain/Grid[2]/Attribute\n",
      " -- content : /TestIm2D_large/test_image_large (CArray(25, 25)) ''\n",
      " -- Compression options for node `test_image_large`:\n",
      "\tcomplevel=0, shuffle=False, bitshuffle=False, fletcher32=False, least_significant_digit=None\n",
      " -- Node size :    63.867 Kb\n",
      "----------------\n",
      "************************************************\n"
     ]
    }
   ],
   "source": [
    "print(sample)"
   ]
  },
  {
   "cell_type": "markdown",
   "metadata": {},
   "source": [
    "## V - First visualization in Paraview\n",
    "Now, we call the `sync` method. It flushes the data from the SampleData instance into the *SD_images.h5* and *SD_images.xdmf* files. "
   ]
  },
  {
   "cell_type": "code",
   "execution_count": 11,
   "metadata": {},
   "outputs": [
    {
     "name": "stdout",
     "output_type": "stream",
     "text": [
      ".... Storing content index in SD_images_ref.h5:/Index attributes\n",
      ".... writing xdmf file : SD_images_ref.xdmf\n",
      ".... flushing data in file SD_images_ref.h5\n",
      "File SD_images_ref.h5 synchronized with in memory data tree\n"
     ]
    }
   ],
   "source": [
    "sample.sync()"
   ]
  },
  {
   "cell_type": "markdown",
   "metadata": {},
   "source": [
    "Now, you can open the *SD_images.xdmf* in the Paraview software. Note that the XDMF file specifies the presence of 2 grids in the dataset, corresponding to the 2 SampleData image groups that have been created in the previous section. To get a nice visualization, you should open the file *SD_images.xdmf* twice in Paraview, that will give you 2 pipelines from the file, as illustrated below:\n",
    "<img src=\"./pipelines.png\" />\n",
    "\n",
    "Then select only one image Group in the *Blocks* panel of the *Properties*  section of the Paraview Interface, like here:\n",
    "<img src=\"./Property_block.png\" />\n",
    "\n",
    "You can now select the **Surface** render view mode, and to display the `'test_image'` and `'test_image_large'` data. What You should see in Paraview is similar to the image below:\n",
    "<img src=\"./2DIm_view.png\" />\n",
    "\n",
    "You can see that the image positions and sizes are consistent with what was set to construct the two `ImageObject` that have then been added into the SampleData instance."
   ]
  },
  {
   "cell_type": "markdown",
   "metadata": {},
   "source": [
    "## VI - 3D Images\n",
    "Now that we have seen how the code works for simple 2D Images, we will now add similarly 2 3D Images to the dataset, from a single binary field. We start by creating the `numpy` arrays that contain the image field. We construct this time a \"*sandwich*\" binary field.  "
   ]
  },
  {
   "cell_type": "code",
   "execution_count": 12,
   "metadata": {},
   "outputs": [],
   "source": [
    "image2 = np.zeros((25,25,25),dtype=int)\n",
    "image2[:,:,5:20] = 1"
   ]
  },
  {
   "cell_type": "markdown",
   "metadata": {},
   "source": [
    "Likewise, we create two `ImageObject` that will store two different 3D Images. We chose the voxel sizes so that each 2D Image has a 3D Image that has the same size in the (X,Y) plane, and the origins so that these 3D Images are in front of the corresponding 2D Image (corresponding in size). The dimensionality of the Image groups are automatically determined by SampleData by analyzing the `dimension` attribute of the `ImageObject` instance passed to the `add_image` method."
   ]
  },
  {
   "cell_type": "code",
   "execution_count": 13,
   "metadata": {},
   "outputs": [],
   "source": [
    "# First ImageObject\n",
    "# Default [1.,1.,1.] spacing is used, but origin is set to 10 unit of the corresponding [1.,1.]\n",
    "# spacing 2D Image along Z.\n",
    "ImageObject_3D_1 = ImageObject(dimension=image2.shape, origin=[0., 0., 10.]) \n",
    "# add image1 as a field on the image object\n",
    "ImageObject_3D_1.add_field(Field=image2, Field_name='test_image_3D')\n",
    "\n",
    "# Second ImageObject\n",
    "# [2.,2.,2.] spacing is used, origin is set to -60 unit of the corresponding [2.,2.] spacing 2D Image along Z,\n",
    "# in order to have the closest face at 10 units from the 2D Image.\n",
    "ImageObject_3D_2 = ImageObject(dimension=image2.shape, spacing=[2.,2.,2.], origin=[0., 30., -60.]) \n",
    "# add image1 as a field on the image object\n",
    "ImageObject_3D_2.add_field(Field=image2, Field_name='test_image_3D_large')"
   ]
  },
  {
   "cell_type": "markdown",
   "metadata": {},
   "source": [
    "Likewise, we add these `ImageObject` instances into `sample` by using the `add_image` method."
   ]
  },
  {
   "cell_type": "code",
   "execution_count": 14,
   "metadata": {},
   "outputs": [
    {
     "name": "stdout",
     "output_type": "stream",
     "text": [
      "\n",
      "Creating Group group `TestIm3D` in file SD_images_ref.h5 at /\n",
      "Updating xdmf tree...\n",
      "\n",
      "Adding array `test_image_3D` into Group `/TestIm3D`\n",
      "\n",
      "Creating Group group `TestIm3D_large` in file SD_images_ref.h5 at /\n",
      "Updating xdmf tree...\n",
      "\n",
      "Adding array `test_image_3D_large` into Group `/TestIm3D_large`\n",
      "Dataset Content Index :\n",
      "------------------------:\n",
      "\t Name : image2d               H5_Path : /TestIm2D \t\n",
      "\t Name : test_image            H5_Path : /TestIm2D/test_image \t\n",
      "\t Name : image2d_large         H5_Path : /TestIm2D_large \t\n",
      "\t Name : test_image_large      H5_Path : /TestIm2D_large/test_image_large \t\n",
      "\t Name : image3d               H5_Path : /TestIm3D \t\n",
      "\t Name : test_image_3D         H5_Path : /TestIm3D/test_image_3D \t\n",
      "\t Name : image3d_large         H5_Path : /TestIm3D_large \t\n",
      "\t Name : test_image_3D_large   H5_Path : /TestIm3D_large/test_image_3D_large \t\n",
      "\n",
      "****** DATA SET CONTENT ******\n",
      " -- File: SD_images_ref.h5\n",
      " -- Size:   141.508 Kb\n",
      " -- Data Model Class: SampleData\n",
      "\n",
      " Group /\n",
      "=====================\n",
      " -- Parent Group : /\n",
      " -- Group attributes : \n",
      "\t description :  \n",
      "\t sample_name : \n",
      " -- Childrens : Index, TestIm2D, TestIm2D_large, TestIm3D, TestIm3D_large, \n",
      "----------------\n",
      "************************************************\n",
      " Group TestIm2D\n",
      "=====================\n",
      " -- Parent Group : /\n",
      " -- Group attributes : \n",
      "\t description :  \n",
      "\t dimension : [25 25]\n",
      "\t empty : False\n",
      "\t group_type : 2DImage\n",
      "\t origin : [0. 0. 0.]\n",
      "\t spacing : [1. 1. 1.]\n",
      "\t xdmf_geometry_path : Domain/Grid/Geometry\n",
      "\t xdmf_path : Domain/Grid\n",
      "\t xdmf_topology_path : Domain/Grid/Topology\n",
      " -- Childrens : test_image, \n",
      "----------------\n",
      "\n",
      "****** Group TestIm2D CONTENT ******\n",
      " Node /TestIm2D/test_image\n",
      "====================\n",
      " -- Parent Group : TestIm2D\n",
      " -- Node name : test_image\n",
      " -- Node attributes : \n",
      "\t empty : False\n",
      "\t field_type : Scalar\n",
      "\t xdmf_path : Domain/Grid/Attribute\n",
      " -- content : /TestIm2D/test_image (CArray(25, 25)) ''\n",
      " -- Compression options for node `test_image`:\n",
      "\tcomplevel=0, shuffle=False, bitshuffle=False, fletcher32=False, least_significant_digit=None\n",
      " -- Node size :    63.867 Kb\n",
      "----------------\n",
      "************************************************\n",
      " Group TestIm2D_large\n",
      "=====================\n",
      " -- Parent Group : /\n",
      " -- Group attributes : \n",
      "\t description :  \n",
      "\t dimension : [25 25]\n",
      "\t empty : False\n",
      "\t group_type : 2DImage\n",
      "\t origin : [ 0. 30.]\n",
      "\t spacing : [2. 2.]\n",
      "\t xdmf_geometry_path : Domain/Grid[2]/Geometry\n",
      "\t xdmf_path : Domain/Grid[2]\n",
      "\t xdmf_topology_path : Domain/Grid[2]/Topology\n",
      " -- Childrens : test_image_large, \n",
      "----------------\n",
      "\n",
      "****** Group TestIm2D_large CONTENT ******\n",
      " Node /TestIm2D_large/test_image_large\n",
      "====================\n",
      " -- Parent Group : TestIm2D_large\n",
      " -- Node name : test_image_large\n",
      " -- Node attributes : \n",
      "\t empty : False\n",
      "\t field_type : Scalar\n",
      "\t xdmf_path : Domain/Grid[2]/Attribute\n",
      " -- content : /TestIm2D_large/test_image_large (CArray(25, 25)) ''\n",
      " -- Compression options for node `test_image_large`:\n",
      "\tcomplevel=0, shuffle=False, bitshuffle=False, fletcher32=False, least_significant_digit=None\n",
      " -- Node size :    63.867 Kb\n",
      "----------------\n",
      "************************************************\n",
      " Group TestIm3D\n",
      "=====================\n",
      " -- Parent Group : /\n",
      " -- Group attributes : \n",
      "\t description :  \n",
      "\t dimension : [25 25 25]\n",
      "\t empty : False\n",
      "\t group_type : 3DImage\n",
      "\t origin : [ 0.  0. 10.]\n",
      "\t spacing : [1. 1. 1.]\n",
      "\t xdmf_geometry_path : Domain/Grid[3]/Geometry\n",
      "\t xdmf_path : Domain/Grid[3]\n",
      "\t xdmf_topology_path : Domain/Grid[3]/Topology\n",
      " -- Childrens : test_image_3D, \n",
      "----------------\n",
      "\n",
      "****** Group TestIm3D CONTENT ******\n",
      " Node /TestIm3D/test_image_3D\n",
      "====================\n",
      " -- Parent Group : TestIm3D\n",
      " -- Node name : test_image_3D\n",
      " -- Node attributes : \n",
      "\t empty : False\n",
      "\t field_type : Scalar\n",
      "\t xdmf_path : Domain/Grid[3]/Attribute\n",
      " -- content : /TestIm3D/test_image_3D (CArray(25, 25, 25)) ''\n",
      " -- Compression options for node `test_image_3D`:\n",
      "\tcomplevel=0, shuffle=False, bitshuffle=False, fletcher32=False, least_significant_digit=None\n",
      " -- Node size :   126.953 Kb\n",
      "----------------\n",
      "************************************************\n",
      " Group TestIm3D_large\n",
      "=====================\n",
      " -- Parent Group : /\n",
      " -- Group attributes : \n",
      "\t description :  \n",
      "\t dimension : [25 25 25]\n",
      "\t empty : False\n",
      "\t group_type : 3DImage\n",
      "\t origin : [  0.  30. -60.]\n",
      "\t spacing : [2. 2. 2.]\n",
      "\t xdmf_geometry_path : Domain/Grid[4]/Geometry\n",
      "\t xdmf_path : Domain/Grid[4]\n",
      "\t xdmf_topology_path : Domain/Grid[4]/Topology\n",
      " -- Childrens : test_image_3D_large, \n",
      "----------------\n",
      "\n",
      "****** Group TestIm3D_large CONTENT ******\n",
      " Node /TestIm3D_large/test_image_3D_large\n",
      "====================\n",
      " -- Parent Group : TestIm3D_large\n",
      " -- Node name : test_image_3D_large\n",
      " -- Node attributes : \n",
      "\t empty : False\n",
      "\t field_type : Scalar\n",
      "\t xdmf_path : Domain/Grid[4]/Attribute\n",
      " -- content : /TestIm3D_large/test_image_3D_large (CArray(25, 25, 25)) ''\n",
      " -- Compression options for node `test_image_3D_large`:\n",
      "\tcomplevel=0, shuffle=False, bitshuffle=False, fletcher32=False, least_significant_digit=None\n",
      " -- Node size :   126.953 Kb\n",
      "----------------\n",
      "************************************************\n"
     ]
    }
   ],
   "source": [
    "# Add first image object\n",
    "sample.add_image(ImageObject_3D_1,imagename='TestIm3D', location='/',indexname='image3d') \n",
    "\n",
    "# Add second image object\n",
    "sample.add_image(ImageObject_3D_2,imagename='TestIm3D_large',indexname='image3d_large')\n",
    "\n",
    "# print dataset content\n",
    "print(sample)"
   ]
  },
  {
   "cell_type": "markdown",
   "metadata": {},
   "source": [
    "Now, we use `sync` to flush the newly written image data into the HDF5 and XDMF files"
   ]
  },
  {
   "cell_type": "code",
   "execution_count": 15,
   "metadata": {},
   "outputs": [
    {
     "name": "stdout",
     "output_type": "stream",
     "text": [
      ".... Storing content index in SD_images_ref.h5:/Index attributes\n",
      ".... writing xdmf file : SD_images_ref.xdmf\n",
      ".... flushing data in file SD_images_ref.h5\n",
      "File SD_images_ref.h5 synchronized with in memory data tree\n"
     ]
    }
   ],
   "source": [
    "sample.sync()"
   ]
  },
  {
   "cell_type": "markdown",
   "metadata": {},
   "source": [
    "Now, open the XDMF file in Paraview 4 times to have 4 pipelines, display each image and the field it contains, and the grid axes. You should see something like this:\n",
    "<img src=\"./3DIm_view.png\" />\n",
    "\n",
    "As you can see, the Renderview display properly the 4 images disposed as prescribed when creating the `ImageObject` instances. Note that the 2D Images are displayed in the plane $x=0$. **This is a strong constraint introduced by the XDMF data format.** For more advanced 2D Image rendering, you should use Mesh groups of regular square elements, and fields defined at each element center. "
   ]
  },
  {
   "cell_type": "markdown",
   "metadata": {},
   "source": [
    "## Suppress SampleData instance\n",
    "Now that we have finished using our `SampleData`, we can delete the instance that we used. If you created it with the `autodelete=True` keyword argument, then this will erase the files created by the class to store the data. "
   ]
  },
  {
   "cell_type": "code",
   "execution_count": 16,
   "metadata": {},
   "outputs": [
    {
     "name": "stdout",
     "output_type": "stream",
     "text": [
      "\n",
      "Deleting DataSample object \n",
      ".... Storing content index in SD_images_ref.h5:/Index attributes\n",
      ".... writing xdmf file : SD_images_ref.xdmf\n",
      ".... flushing data in file SD_images_ref.h5\n",
      "File SD_images_ref.h5 synchronized with in memory data tree\n",
      "\n",
      "Dataset and Datafiles closed\n"
     ]
    }
   ],
   "source": [
    "del sample"
   ]
  },
  {
   "cell_type": "markdown",
   "metadata": {},
   "source": [
    "## To go further\n",
    "\n",
    "You will find in this directory a *SD_images_ref.h5* and a *SD_images_ref.xdmf* files, created with this notebook as a reference output. You can play with the various parameters of the methods in the file and see how it changes how images display in Paraview, and compare it to this reference file. You can also explore how to compress these images, but a specific Notebook will be dedicated to this aspect of using SampleData.\n",
    "\n",
    "Thank you for reaeding this up to the end !"
   ]
  }
 ],
 "metadata": {
  "kernelspec": {
   "display_name": "py3bI",
   "language": "python",
   "name": "py3bi"
  },
  "language_info": {
   "codemirror_mode": {
    "name": "ipython",
    "version": 3
   },
   "file_extension": ".py",
   "mimetype": "text/x-python",
   "name": "python",
   "nbconvert_exporter": "python",
   "pygments_lexer": "ipython3",
   "version": "3.7.8"
  }
 },
 "nbformat": 4,
 "nbformat_minor": 4
}
